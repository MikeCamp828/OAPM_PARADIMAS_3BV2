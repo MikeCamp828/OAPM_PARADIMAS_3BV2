{
 "cells": [
  {
   "cell_type": "code",
   "execution_count": 4,
   "id": "97741c96",
   "metadata": {},
   "outputs": [
    {
     "data": {
      "text/plain": [
       "30"
      ]
     },
     "execution_count": 4,
     "metadata": {},
     "output_type": "execute_result"
    }
   ],
   "source": [
    "sumarle_quince = lambda x: x + 15 #la funcion lambda se llama sumerle_quince y usa de parametro x, la funcion suma 15 a dicho parametro\n",
    "\n",
    "sumarle_quince(15) #Mandamos a llamar a la funcion con un parametro cualquiera, en este caso usamos 15"
   ]
  },
  {
   "cell_type": "code",
   "execution_count": 5,
   "id": "93060232",
   "metadata": {},
   "outputs": [
    {
     "data": {
      "text/plain": [
       "12"
      ]
     },
     "execution_count": 5,
     "metadata": {},
     "output_type": "execute_result"
    }
   ],
   "source": [
    "multi = lambda x,y: x*y #La funcion lambda llamada multi, establece a dos parametros,x y y los cuales en la funcion seran multiplicados\n",
    "multi(3,4) #Llamamos a la funcion con los parametros siendo dos numeros cualquiera los cuales en el resultado se han de multiplicar"
   ]
  },
  {
   "cell_type": "code",
   "execution_count": 46,
   "id": "038fc053",
   "metadata": {},
   "outputs": [
    {
     "data": {
      "text/plain": [
       "33.333333333333336"
      ]
     },
     "execution_count": 46,
     "metadata": {},
     "output_type": "execute_result"
    }
   ],
   "source": [
    "import random #para los numeros aleatorios importamos esta libreria\n",
    "div = lambda x,y : x/y # el valor de la funcion div sera el resultado de la funcion lambda la cual usa dos valores \"x\" y \"y\" el cual nos devolvera su cociente\n",
    "div(100,random.randint(1,10)) #mandamos llamar a div con parametros 100 como divisor y un numero aleatorio entre 1 y 10 como cociente"
   ]
  },
  {
   "cell_type": "code",
   "execution_count": 5,
   "id": "2e195325",
   "metadata": {},
   "outputs": [
    {
     "name": "stdout",
     "output_type": "stream",
     "text": [
      "Double the number of 15 = 30\n"
     ]
    }
   ],
   "source": [
    "def func_compute(n): #definimos una funcion llamada func_compute la cual pide un valor como parametro llamado \"n\"\n",
    "    return lambda x : x*n #usando una funcion lambda retornamos de la funcion func_compute, usando un valor x el resutado de multiplicar x por lo que valga la variable n\n",
    "result =func_compute(2) #a la funcion result le vamos a asignar lo que devuelva la funcion func:compute si le pasamos como argumento 2 para representar un doble\n",
    "print(\"Double the number of 15 =\",result(15)) #imprimimos lo que devuelve result si le pasamos un 15 como argumento el cual a su vez llama a func:compute que multiplica el 15 por 2\n",
    "#ya que al ponerle un argumento a result y result sera el resultado de una funcion lamda, result ahora es una funcion lambda que multiplica su argumento por 2"
   ]
  },
  {
   "cell_type": "code",
   "execution_count": 7,
   "id": "426b5394",
   "metadata": {},
   "outputs": [
    {
     "name": "stdout",
     "output_type": "stream",
     "text": [
      "Original list of tuples:\n",
      "[('English', 88), ('Science', 90), ('Maths', 97), ('Social sciences', 82)]\n",
      "\n",
      "Result:\n",
      "[('Social sciences', 82), ('English', 88), ('Science', 90), ('Maths', 97)]\n"
     ]
    }
   ],
   "source": [
    "#se crea una lista de tuplas llamada \"subject_marks\", donde cada tupla contiene el nombre de\n",
    "#una asignatura y la puntuación obtenida por el estudiante en esa asignatura.\n",
    "\n",
    "subject_marks =[('English',88),('Science',90),('Maths',97),('Social sciences',82)]\n",
    "\n",
    "#se imprime en pantalla la lista de tuplas con la asignatura, asi como la calificación\n",
    "print(\"Original list of tuples:\")\n",
    "print(subject_marks)\n",
    "\n",
    "#subject_marks se somete al metodo sort() el cual va a ordenar la lista del mas bajo al mas alto\n",
    "#el argumento de sort() es una variable llamada key la cual es una funcion lambda que accede al segundo elemento\n",
    "#de la tupla la cual seria el promedio y en base a eso la funcion sort() va a ordenar\n",
    "subject_marks.sort(key =lambda x:x[1])\n",
    "\n",
    "#por ultimo imprime la lista de tuplas la cual ya esta ordenada\n",
    "print(\"\\nResult:\")\n",
    "print(subject_marks)"
   ]
  },
  {
   "cell_type": "code",
   "execution_count": 2,
   "id": "e35711d4",
   "metadata": {},
   "outputs": [
    {
     "name": "stdout",
     "output_type": "stream",
     "text": [
      "Original list of integers:\n",
      "[1, 2, 3, 4, 5, 6, 7, 8, 9, 10]\n",
      "\n",
      "umbers from the said list:\n",
      "[2, 4, 6, 8, 10]\n",
      "\n",
      "umbers from the said list:\n",
      "[1, 3, 5, 7, 9]\n"
     ]
    }
   ],
   "source": [
    "#se crea una lista llamada \"nums\" que contiene los números del 1 al 10.\n",
    "nums =[1,2,3,4,5,6,7,8,9,10]\n",
    "#imprime la lista original de números enteros usando la función \"print\" y la variable \"nums\".\n",
    "print(\"Original list of integers:\")\n",
    "print(nums)\n",
    "print(\"\\numbers from the said list:\")\n",
    "#crea una nueva lista llamada \"even_nums\" que contiene solo los números pares de la lista \n",
    "#original \"nums\". Esto se hace utilizando la función \"filter\" junto con una función lambda\n",
    "#que verifica si cada elemento de \"nums\" es divisible por 2 sin dejar un resto. Si un número\n",
    "#es divisible por 2 sin dejar un resto, se agrega a la lista \"even_nums\". Finalmente,\n",
    "#se convierte el objeto filter a una lista utilizando la función \"list\".\n",
    "even_nums =list(filter(lambda x:x%2==0,nums))\n",
    "#imprime la lista de números pares usando la función \"print\" y la variable \"even_nums\".\n",
    "print(even_nums)\n",
    "print(\"\\numbers from the said list:\")\n",
    "#crea una nueva lista llamada \"odd_nums\" que contiene solo los números impares de la\n",
    "#lista original \"nums\". Esto se hace de manera similar a la creación de la lista \"even_nums\",\n",
    "#pero esta vez la función lambda verifica si cada elemento de \"nums\" NO es divisible por 2\n",
    "#sin dejar un resto. Si un número NO es divisible por 2 sin dejar un resto, se agrega a la\n",
    "#lista \"odd_nums\". Al igual que antes, el objeto filter se convierte a una lista utilizando la función \"list\".\n",
    "odd_nums =list(filter(lambda x:x%2!=0,nums))\n",
    "#Finalmente, el programa imprime la lista de números impares usando la función \"print\" y la variable \"odd_nums\".\n",
    "print(odd_nums)"
   ]
  },
  {
   "cell_type": "code",
   "execution_count": 4,
   "id": "d6739269",
   "metadata": {},
   "outputs": [
    {
     "name": "stdout",
     "output_type": "stream",
     "text": [
      "Original list of integers:\n",
      "[1, 2, 3, 4, 5, 6, 7, 8, 9, 10]\n",
      "\n",
      " nmber of the said list:\n",
      "[1, 4, 9, 16, 25, 36, 49, 64, 81, 100]\n",
      "\n",
      " every number of the said list:\n",
      "[1, 8, 27, 64, 125, 216, 343, 512, 729, 1000]\n"
     ]
    }
   ],
   "source": [
    "#se crea una lista llamada \"nums\" que contiene los números del 1 al 10.\n",
    "nums =[1,2,3,4,5,6,7,8,9,10]\n",
    "#imprime la lista original de números enteros usando la función \"print\" y la variable \"nums\".\n",
    "print(\"Original list of integers:\")\n",
    "print(nums)\n",
    "print(\"\\n nmber of the said list:\")\n",
    "#crea una nueva lista llamada \"square_nums\" que contiene los cuadrados de los números de la\n",
    "#lista original \"nums\". Esto se hace utilizando la función \"map\" junto con una función\n",
    "#lambda que eleva cada elemento de \"nums\" al cuadrado. Es decir, para cada número en \"nums\",\n",
    "#la función lambda devuelve ese número elevado al cuadrado. Finalmente, se convierte el objeto\n",
    "#map a una lista utilizando la función \"list\"\n",
    "square_nums =list(map(lambda x:x **2,nums))\n",
    "#imprime la lista de números al cuadrado usando la función \"print\" y la variable \"square_nums\".\n",
    "print(square_nums)\n",
    "print(\"\\n every number of the said list:\")\n",
    "#crea una nueva lista llamada \"cube_nums\" que contiene los cubos de los números de la lista\n",
    "#original \"nums\". Esto se hace de manera similar a la creación de la lista \"square_nums\", pero\n",
    "#esta vez la función lambda eleva cada elemento de \"nums\" al cubo. Es decir, para cada número\n",
    "#en \"nums\", la función lambda devuelve ese número elevado al cubo. Al igual que antes,\n",
    "#el objeto map se convierte a una lista utilizando la función \"list\"\n",
    "cube_nums =list(map(lambda x:x **3,nums))\n",
    "#imprime la lista de números al cubo usando la función \"print\" y la variable \"cube_nums\".\n",
    "print(cube_nums)"
   ]
  },
  {
   "cell_type": "code",
   "execution_count": 8,
   "id": "becb84d5",
   "metadata": {},
   "outputs": [
    {
     "name": "stdout",
     "output_type": "stream",
     "text": [
      "True\n",
      "False\n",
      "2023-05-13 14:57:39.949426\n",
      "2023\n",
      "5\n",
      "13\n",
      "14:57:39.949426\n"
     ]
    }
   ],
   "source": [
    "#se define una función lambda llamada \"starts_with\". Esta función toma una cadena\n",
    "#como entrada y devuelve \"True\" si la cadena comienza con la letra \"P\", y \"False\"\n",
    "#en caso contrario. La función lambda utiliza una expresión condicional para verificar\n",
    "#si la cadena comienza con \"P\" y devuelve el resultado correspondiente.\n",
    "starts_with =lambda x:True if x.startswith('P')else False\n",
    "print(starts_with('Python')) #se imprime la devolucion de la funcion con su parametro\n",
    "#se llama a la función \"starts_with\" dos veces con diferentes cadenas (\"Python\" y \"Java\") \n",
    "#como entrada, y se imprime el resultado de cada llamada. La primera llamada devuelve \"True\"\n",
    "#porque \"Python\" comienza con la letra \"P\", mientras que la segunda llamada devuelve \"False\" \n",
    "#porque \"Java\" no comienza con la letra \"P\".\n",
    "starts_with =lambda x:True if x.startswith('P')else False\n",
    "print(starts_with('Java')) #se imprime la devolucion de la funcion con su parametro\n",
    "\n",
    "\n",
    "#importa el módulo \"datetime\" y utiliza la función \"now()\" para obtener la fecha y hora actuales.\n",
    "import datetime\n",
    "now = datetime.datetime.now()\n",
    "#imprimira la fecha y hora actual\n",
    "print(now)\n",
    "#year es la funcion lambda que extrae el año del parametro en caso de ser posible y lo devuelve\n",
    "year = lambda x: x.year\n",
    "#month es la funcion lambda que extrae el mes del parametro en caso de ser posible y lo devuelve\n",
    "month = lambda x: x.month\n",
    "#day es la funcion lambda que extrae el dia del parametro en caso de ser posible y lo devuelve\n",
    "day = lambda x: x.day\n",
    "#t es la funcion lambda que extrae la hora del parametro en caso de ser posible y lo devuelve\n",
    "t = lambda x: x.time()\n",
    "#imprime year con parametro la fecha now\n",
    "print(year(now))\n",
    "#imprime month con parametro la fecha now\n",
    "print(month(now))\n",
    "#imprime day con parametro la fecha now\n",
    "print(day(now))\n",
    "#imprime t con parametro la fecha now\n",
    "print(t(now))"
   ]
  },
  {
   "cell_type": "code",
   "execution_count": null,
   "id": "8efc0336",
   "metadata": {},
   "outputs": [],
   "source": []
  }
 ],
 "metadata": {
  "kernelspec": {
   "display_name": "Python 3 (ipykernel)",
   "language": "python",
   "name": "python3"
  },
  "language_info": {
   "codemirror_mode": {
    "name": "ipython",
    "version": 3
   },
   "file_extension": ".py",
   "mimetype": "text/x-python",
   "name": "python",
   "nbconvert_exporter": "python",
   "pygments_lexer": "ipython3",
   "version": "3.10.9"
  }
 },
 "nbformat": 4,
 "nbformat_minor": 5
}
